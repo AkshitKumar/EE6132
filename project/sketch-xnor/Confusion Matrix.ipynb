{
 "cells": [
  {
   "cell_type": "code",
   "execution_count": 11,
   "metadata": {
    "collapsed": false
   },
   "outputs": [
    {
     "name": "stdout",
     "output_type": "stream",
     "text": [
      "Loading the dataset...\n",
      "Dataset loaded!\n",
      "Pretrained Model Loaded!\n"
     ]
    }
   ],
   "source": [
    "import tensorflow as tf\n",
    "import numpy as np\n",
    "import math\n",
    "import matplotlib.pyplot as plt\n",
    "import os\n",
    "\n",
    "import bwsketchnet as sn\n",
    "from data_layer import DataLayer, load_pretrained_model\n",
    "\n",
    "FLAGS = {}\n",
    "FLAGS['data_path'] = 'dataset/dataset_with_order_info_256.mat'\n",
    "FLAGS['model_path'] = 'dataset/model_with_order_info_256.mat'\n",
    "FLAGS['batch_size'] = 100\n",
    "FLAGS['logdir'] = 'models/bwn-model/'\n",
    "# Instantiate the data layer to have easy access of the dataset\n",
    "dataset = DataLayer(FLAGS['data_path'], batch_size=FLAGS['batch_size'])\n",
    "# Load the pretrained models\n",
    "pretrained = load_pretrained_model(FLAGS['model_path'] if FLAGS['model_path'] else None)"
   ]
  },
  {
   "cell_type": "code",
   "execution_count": 12,
   "metadata": {
    "collapsed": false
   },
   "outputs": [],
   "source": [
    "with tf.Graph().as_default():\n",
    "    images_placeholder = tf.placeholder(tf.float32, name='images_pl')\n",
    "    labels_placeholder = tf.placeholder(tf.float32, name='labels_pl')\n",
    "    dr_placeholder = tf.placeholder_with_default(1.0, shape=(), name='dr_pl')\n",
    "    \n",
    "    logits = sn.inference(images_placeholder, dr_placeholder, pretrained=pretrained)\n",
    "    init = tf.global_variables_initializer()\n",
    "    \n",
    "    saver = tf.train.Saver()\n",
    "    \n",
    "    with tf.Session() as sess:\n",
    "        latest_ckpt_file = tf.train.latest_checkpoint(os.path.join(FLAGS['logdir'], 'ckpt'))\n",
    "        saver.restore(sess, latest_ckpt_file)\n",
    "        \n",
    "        images, labels = dataset.next_batch_train()\n",
    "        rets = sess.run(logits, feed_dict={ images_placeholder: images, labels_placeholder: labels })"
   ]
  },
  {
   "cell_type": "code",
   "execution_count": 13,
   "metadata": {
    "collapsed": false
   },
   "outputs": [
    {
     "name": "stdout",
     "output_type": "stream",
     "text": [
      "[  0   0   0   0 203   0   0   0 179   0   0   0   0   0   0   0   0   0\n",
      "   0   0   0 186   0   0   0   0   0   0   0 187   0   0   0   0   0   0\n",
      "   0   0   0   0   0   0  86   0   0   0   0   0   0   0   0   0   0   0\n",
      "   1  36   1   1  41 224 226   1   1   1   1   1   1   1   1   1   1   1\n",
      "   1   1   1   1   1   1   1   1   1   1   1   1   1   1   1   1   1   1\n",
      "   1   1   1   1   1   1   1   1   1   1]\n",
      "[ 0.  0.  0.  0.  0.  0.  0.  0.  0.  0.  0.  0.  0.  0.  0.  0.  0.  0.\n",
      "  0.  0.  0.  0.  0.  0.  0.  0.  0.  0.  0.  0.  0.  0.  0.  0.  0.  0.\n",
      "  0.  0.  0.  0.  0.  0.  0.  0.  0.  0.  0.  0.  0.  0.  0.  0.  0.  0.\n",
      "  1.  1.  1.  1.  1.  1.  1.  1.  1.  1.  1.  1.  1.  1.  1.  1.  1.  1.\n",
      "  1.  1.  1.  1.  1.  1.  1.  1.  1.  1.  1.  1.  1.  1.  1.  1.  1.  1.\n",
      "  1.  1.  1.  1.  1.  1.  1.  1.  1.  1.]\n"
     ]
    }
   ],
   "source": [
    "print np.argmax(rets, axis=1)\n",
    "print labels"
   ]
  },
  {
   "cell_type": "code",
   "execution_count": null,
   "metadata": {
    "collapsed": true
   },
   "outputs": [],
   "source": []
  }
 ],
 "metadata": {
  "anaconda-cloud": {},
  "kernelspec": {
   "display_name": "Python [default]",
   "language": "python",
   "name": "python2"
  },
  "language_info": {
   "codemirror_mode": {
    "name": "ipython",
    "version": 2
   },
   "file_extension": ".py",
   "mimetype": "text/x-python",
   "name": "python",
   "nbconvert_exporter": "python",
   "pygments_lexer": "ipython2",
   "version": "2.7.12"
  }
 },
 "nbformat": 4,
 "nbformat_minor": 1
}
